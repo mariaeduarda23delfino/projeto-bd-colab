{
  "cells": [
    {
      "cell_type": "markdown",
      "metadata": {
        "id": "view-in-github",
        "colab_type": "text"
      },
      "source": [
        "<a href=\"https://colab.research.google.com/github/mariaeduarda23delfino/projeto-bd-colab/blob/main/Projeto_BD_SQLite.ipynb\" target=\"_parent\"><img src=\"https://colab.research.google.com/assets/colab-badge.svg\" alt=\"Open In Colab\"/></a>"
      ]
    },
    {
      "cell_type": "code",
      "execution_count": null,
      "metadata": {
        "id": "ORaF2Bl5oQZ3"
      },
      "outputs": [],
      "source": [
        "# Importar biblioteca e conectar ao banco de dados\n",
        "import sqlite3\n",
        "conn = sqlite3.connect(':memory:')  # Banco em memória\n",
        "cursor = conn.cursor()\n",
        "cursor.execute(\"PRAGMA foreign_keys = ON;\")"
      ],
      "id": "ORaF2Bl5oQZ3"
    },
    {
      "cell_type": "code",
      "execution_count": null,
      "metadata": {
        "id": "svO0sYfSoQZ3"
      },
      "outputs": [],
      "source": [
        "# Criar tabelas\n",
        "cursor.execute('''\n",
        "CREATE TABLE IF NOT EXISTS pessoas (\n",
        "    id INTEGER PRIMARY KEY AUTOINCREMENT,\n",
        "    nome TEXT NOT NULL,\n",
        "    idade INTEGER\n",
        ");\n",
        "''')\n",
        "\n",
        "cursor.execute('''\n",
        "CREATE TABLE IF NOT EXISTS produtos (\n",
        "    id INTEGER PRIMARY KEY AUTOINCREMENT,\n",
        "    descricao TEXT NOT NULL,\n",
        "    estoque INTEGER,\n",
        "    preco REAL\n",
        ");\n",
        "''')\n",
        "\n",
        "cursor.execute('''\n",
        "CREATE TABLE IF NOT EXISTS vendas (\n",
        "    id_venda INTEGER PRIMARY KEY AUTOINCREMENT,\n",
        "    id_pessoa INTEGER,\n",
        "    id_produto INTEGER,\n",
        "    quantidade INTEGER,\n",
        "    FOREIGN KEY (id_pessoa) REFERENCES pessoas(id),\n",
        "    FOREIGN KEY (id_produto) REFERENCES produtos(id)\n",
        ");\n",
        "''')\n",
        "\n",
        "conn.commit()"
      ],
      "id": "svO0sYfSoQZ3"
    },
    {
      "cell_type": "code",
      "execution_count": null,
      "metadata": {
        "id": "2Pc_dm0joQZ4"
      },
      "outputs": [],
      "source": [
        "# Inserir dados nas tabelas\n",
        "cursor.execute(\"INSERT INTO pessoas (nome, idade) VALUES ('Maria', 30);\")\n",
        "cursor.execute(\"INSERT INTO pessoas (nome, idade) VALUES ('João', 25);\")\n",
        "cursor.execute(\"INSERT INTO pessoas (nome, idade) VALUES ('Ana', 40);\")\n",
        "\n",
        "cursor.execute(\"INSERT INTO produtos (descricao, estoque, preco) VALUES ('Caneta', 100, 1.50);\")\n",
        "cursor.execute(\"INSERT INTO produtos (descricao, estoque, preco) VALUES ('Caderno', 50, 6.50);\")\n",
        "\n",
        "conn.commit()"
      ],
      "id": "2Pc_dm0joQZ4"
    },
    {
      "cell_type": "code",
      "execution_count": null,
      "metadata": {
        "id": "OEFDiawWoQZ4"
      },
      "outputs": [],
      "source": [
        "# Inserir dados na tabela de vendas\n",
        "cursor.execute(\"INSERT INTO vendas (id_pessoa, id_produto, quantidade) VALUES (1, 1, 10);\")\n",
        "cursor.execute(\"INSERT INTO vendas (id_pessoa, id_produto, quantidade) VALUES (2, 2, 2);\")\n",
        "conn.commit()"
      ],
      "id": "OEFDiawWoQZ4"
    },
    {
      "cell_type": "code",
      "execution_count": null,
      "metadata": {
        "id": "38ZoAzBVoQZ4"
      },
      "outputs": [],
      "source": [
        "# Fazer uma consulta com JOIN para mostrar os dados da venda\n",
        "cursor.execute('''\n",
        "SELECT v.id_venda, p.nome, pr.descricao, v.quantidade\n",
        "FROM vendas v\n",
        "JOIN pessoas p ON v.id_pessoa = p.id\n",
        "JOIN produtos pr ON v.id_produto = pr.id;\n",
        "''')\n",
        "resultados = cursor.fetchall()\n",
        "for linha in resultados:\n",
        "    print(linha)"
      ],
      "id": "38ZoAzBVoQZ4"
    },
    {
      "cell_type": "code",
      "execution_count": null,
      "metadata": {
        "id": "lteIuHOIoQZ4"
      },
      "outputs": [],
      "source": [
        "# Encerrar conexão\n",
        "conn.close()"
      ],
      "id": "lteIuHOIoQZ4"
    }
  ],
  "metadata": {
    "kernelspec": {
      "display_name": "Python 3",
      "language": "python",
      "name": "python3"
    },
    "language_info": {
      "name": "python",
      "version": "3.10"
    },
    "colab": {
      "provenance": [],
      "include_colab_link": true
    }
  },
  "nbformat": 4,
  "nbformat_minor": 5
}