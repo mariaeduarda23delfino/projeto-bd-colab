{
  "nbformat": 4,
  "nbformat_minor": 0,
  "metadata": {
    "colab": {
      "provenance": [],
      "authorship_tag": "ABX9TyPFRuUjGoopD7NvtGxSRzyj",
      "include_colab_link": true
    },
    "kernelspec": {
      "name": "python3",
      "display_name": "Python 3"
    },
    "language_info": {
      "name": "python"
    }
  },
  "cells": [
    {
      "cell_type": "markdown",
      "metadata": {
        "id": "view-in-github",
        "colab_type": "text"
      },
      "source": [
        "<a href=\"https://colab.research.google.com/github/mariaeduarda23delfino/projeto-bd-colab/blob/main/Projeto_BD_SQLite.ipynb\" target=\"_parent\"><img src=\"https://colab.research.google.com/assets/colab-badge.svg\" alt=\"Open In Colab\"/></a>"
      ]
    },
    {
      "cell_type": "code",
      "source": [
        "# Importa a biblioteca sqlite3\n",
        "import sqlite3\n",
        "\n",
        "# Cria a conexão com o banco de dados (em memória)\n",
        "conn = sqlite3.connect(':memory:')\n",
        "cursor = conn.cursor()\n",
        "\n",
        "# Ativa o uso de chaves estrangeiras\n",
        "cursor.execute(\"PRAGMA foreign_keys = ON;\")\n"
      ],
      "metadata": {
        "id": "kwJm1yga-xqM"
      },
      "execution_count": null,
      "outputs": []
    },
    {
      "cell_type": "code",
      "source": [
        "# Criação da tabela de pessoas\n",
        "cursor.execute('''\n",
        "CREATE TABLE IF NOT EXISTS pessoas (\n",
        "    id INTEGER PRIMARY KEY AUTOINCREMENT,\n",
        "    nome TEXT NOT NULL,\n",
        "    idade INTEGER\n",
        ");\n",
        "''')\n",
        "\n",
        "# Criação da tabela de produtos\n",
        "cursor.execute('''\n",
        "CREATE TABLE IF NOT EXISTS produtos (\n",
        "    id INTEGER PRIMARY KEY AUTOINCREMENT,\n",
        "    descricao TEXT NOT NULL,\n",
        "    estoque INTEGER,\n",
        "    preco REAL\n",
        ");\n",
        "''')\n",
        "\n",
        "# Criação da tabela de vendas com chaves estrangeiras\n",
        "cursor.execute('''\n",
        "CREATE TABLE IF NOT EXISTS vendas (\n",
        "    id_venda INTEGER PRIMARY KEY AUTOINCREMENT,\n",
        "    id_pessoa INTEGER,\n",
        "    id_produto INTEGER,\n",
        "    quantidade INTEGER,\n",
        "    FOREIGN KEY (id_pessoa) REFERENCES pessoas(id),\n",
        "    FOREIGN KEY (id_produto) REFERENCES produtos(id)\n",
        ");\n",
        "''')\n",
        "\n",
        "# Salva as alterações\n",
        "conn.commit()\n"
      ],
      "metadata": {
        "id": "8otQ2Bjn-1mN"
      },
      "execution_count": null,
      "outputs": []
    },
    {
      "cell_type": "code",
      "source": [
        "# Inserindo pessoas\n",
        "cursor.execute(\"INSERT INTO pessoas (nome, idade) VALUES ('Maria', 30);\")\n",
        "cursor.execute(\"INSERT INTO pessoas (nome, idade) VALUES ('João', 25);\")\n",
        "cursor.execute(\"INSERT INTO pessoas (nome, idade) VALUES ('Ana', 40);\")\n",
        "\n",
        "# Inserindo produtos\n",
        "cursor.execute(\"INSERT INTO produtos (descricao, estoque, preco) VALUES ('Caneta', 100, 1.50);\")\n",
        "cursor.execute(\"INSERT INTO produtos (descricao, estoque, preco) VALUES ('Caderno', 50, 6.50);\")\n",
        "\n",
        "# Salva as inserções\n",
        "conn.commit()\n"
      ],
      "metadata": {
        "id": "3-60Zv8g-4CY"
      },
      "execution_count": null,
      "outputs": []
    },
    {
      "cell_type": "code",
      "source": [
        "# Inserindo vendas\n",
        "cursor.execute(\"INSERT INTO vendas (id_pessoa, id_produto, quantidade) VALUES (1, 1, 10);\")  # Maria comprou 10 canetas\n",
        "cursor.execute(\"INSERT INTO vendas (id_pessoa, id_produto, quantidade) VALUES (2, 2, 2);\")   # João comprou 2 cadernos\n",
        "conn.commit()\n",
        "\n",
        "# Consultando as vendas com JOIN\n",
        "cursor.execute('''\n",
        "SELECT v.id_venda, p.nome, pr.descricao, v.quantidade\n",
        "FROM vendas v\n",
        "JOIN pessoas p ON v.id_pessoa = p.id\n",
        "JOIN produtos pr ON v.id_produto = pr.id;\n",
        "''')\n",
        "\n",
        "# Mostra os resultados\n",
        "resultados = cursor.fetchall()\n",
        "for linha in resultados:\n",
        "    print(linha)\n"
      ],
      "metadata": {
        "id": "BjjdfVWC-5x_"
      },
      "execution_count": null,
      "outputs": []
    },
    {
      "cell_type": "code",
      "source": [
        "# Fecha a conexão com o banco\n",
        "conn.close()\n"
      ],
      "metadata": {
        "id": "u2fVrvH6-8wR"
      },
      "execution_count": null,
      "outputs": []
    }
  ]
}